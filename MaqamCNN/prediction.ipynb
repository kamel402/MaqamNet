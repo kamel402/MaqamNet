{
 "cells": [
  {
   "cell_type": "code",
   "execution_count": 1,
   "metadata": {},
   "outputs": [
    {
     "name": "stdout",
     "output_type": "stream",
     "text": [
      "gpu available : True\n",
      "Namespace(gpus=[0], mp3_file='test_files/test_4.mp3')\n",
      "Model loaded\n",
      "Evaluating test_files/test_4.mp3\n",
      "/opt/conda/envs/fastai/lib/python3.8/site-packages/librosa/core/audio.py:162: UserWarning: PySoundFile failed. Trying audioread instead.\n",
      "  warnings.warn(\"PySoundFile failed. Trying audioread instead.\")\n",
      "8065030 samples with 22050 sample rate\n",
      "Number of segments to calculate 10\n",
      "[[4.6706265e-01 7.2644430e-01 4.7642239e-05 3.2221002e-04]]\n",
      "[[9.6458113e-01 6.4158170e-03 3.5719009e-07 2.2741614e-03]]\n",
      "[[8.8749301e-01 3.7530556e-02 9.5729250e-05 2.9656298e-02]]\n",
      "[[9.0373486e-01 3.3854835e-02 3.1877978e-05 1.5789110e-02]]\n",
      "[[8.4877163e-01 3.3520591e-03 1.9625545e-04 3.3962962e-01]]\n",
      "[[0.2541686  0.7633971  0.00103374 0.00482049]]\n",
      "[[2.9951777e-02 7.9220223e-01 1.3746322e-06 3.0510874e-02]]\n",
      "[[7.9170620e-01 2.9833701e-01 6.7691645e-04 1.9084137e-04]]\n",
      "[[4.6522233e-01 6.6783100e-01 1.0880081e-05 3.6543005e-04]]\n",
      "[[9.2956978e-01 4.4385195e-02 1.1291016e-05 1.6001513e-03]]\n",
      "(10, 1, 4)\n",
      "[[[4.6706265e-01 7.2644430e-01 4.7642239e-05 3.2221002e-04]]\n",
      "\n",
      " [[9.6458113e-01 6.4158170e-03 3.5719009e-07 2.2741614e-03]]\n",
      "\n",
      " [[8.8749301e-01 3.7530556e-02 9.5729250e-05 2.9656298e-02]]\n",
      "\n",
      " [[9.0373486e-01 3.3854835e-02 3.1877978e-05 1.5789110e-02]]\n",
      "\n",
      " [[8.4877163e-01 3.3520591e-03 1.9625545e-04 3.3962962e-01]]\n",
      "\n",
      " [[2.5416860e-01 7.6339710e-01 1.0337372e-03 4.8204921e-03]]\n",
      "\n",
      " [[2.9951777e-02 7.9220223e-01 1.3746322e-06 3.0510874e-02]]\n",
      "\n",
      " [[7.9170620e-01 2.9833701e-01 6.7691645e-04 1.9084137e-04]]\n",
      "\n",
      " [[4.6522233e-01 6.6783100e-01 1.0880081e-05 3.6543005e-04]]\n",
      "\n",
      " [[9.2956978e-01 4.4385195e-02 1.1291016e-05 1.6001513e-03]]]\n",
      "avg val: [[6.5422618e-01 3.3737499e-01 2.1060617e-04 4.2515922e-02]]\n",
      "risat = 69%\n",
      "hijaz = 30%\n",
      "sika = 0%\n",
      "ajam = 0%\n",
      "sorted tag: [[2 3 1 0]]\n",
      "predicted tags: risat\n"
     ]
    }
   ],
   "source": [
    "!python eval_tags.py --gpus 0 --mp3_file \"test_files/test_4.mp3\""
   ]
  },
  {
   "cell_type": "code",
   "execution_count": null,
   "metadata": {},
   "outputs": [],
   "source": []
  },
  {
   "cell_type": "code",
   "execution_count": null,
   "metadata": {},
   "outputs": [],
   "source": []
  }
 ],
 "metadata": {
  "kernelspec": {
   "display_name": "Python 3",
   "language": "python",
   "name": "python3"
  },
  "language_info": {
   "codemirror_mode": {
    "name": "ipython",
    "version": 3
   },
   "file_extension": ".py",
   "mimetype": "text/x-python",
   "name": "python",
   "nbconvert_exporter": "python",
   "pygments_lexer": "ipython3",
   "version": "3.8.6"
  }
 },
 "nbformat": 4,
 "nbformat_minor": 4
}
