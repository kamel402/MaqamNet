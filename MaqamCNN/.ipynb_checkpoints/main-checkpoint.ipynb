{
 "cells": [
  {
   "cell_type": "code",
   "execution_count": 32,
   "metadata": {},
   "outputs": [
    {
     "name": "stdout",
     "output_type": "stream",
     "text": [
      "gpu available : True\n",
      "gpu devices being used:  []\n",
      "dataset mode:  train\n",
      "Start training!!\n",
      "solver mode :  train\n",
      "dataset mode:  train\n",
      "solver mode :  train\n",
      "dataset mode:  train\n",
      "Traceback (most recent call last):\n",
      "  File \"/opt/conda/envs/fastai/lib/python3.8/site-packages/torch/utils/data/dataloader.py\", line 872, in _try_get_data\n",
      "    data = self._data_queue.get(timeout=timeout)\n",
      "  File \"/opt/conda/envs/fastai/lib/python3.8/queue.py\", line 179, in get\n",
      "    self.not_empty.wait(remaining)\n",
      "  File \"/opt/conda/envs/fastai/lib/python3.8/threading.py\", line 306, in wait\n",
      "    gotit = waiter.acquire(True, timeout)\n",
      "  File \"/opt/conda/envs/fastai/lib/python3.8/site-packages/torch/utils/data/_utils/signal_handling.py\", line 66, in handler\n",
      "    _error_if_any_worker_fails()\n",
      "RuntimeError: DataLoader worker (pid 1780) is killed by signal: Killed. \n",
      "\n",
      "The above exception was the direct cause of the following exception:\n",
      "\n",
      "Traceback (most recent call last):\n",
      "  File \"main.py\", line 33, in <module>\n",
      "    main()\n",
      "  File \"main.py\", line 22, in main\n",
      "    mysolver.train()\n",
      "  File \"/notebooks/TensorFlow/MaqamCNN/MaqamCNN-pytorch/solver.py\", line 87, in train\n",
      "    for i, data in enumerate(self.dataloader):\n",
      "  File \"/opt/conda/envs/fastai/lib/python3.8/site-packages/torch/utils/data/dataloader.py\", line 435, in __next__\n",
      "    data = self._next_data()\n",
      "  File \"/opt/conda/envs/fastai/lib/python3.8/site-packages/torch/utils/data/dataloader.py\", line 1068, in _next_data\n",
      "    idx, data = self._get_data()\n",
      "  File \"/opt/conda/envs/fastai/lib/python3.8/site-packages/torch/utils/data/dataloader.py\", line 1024, in _get_data\n",
      "    success, data = self._try_get_data()\n",
      "  File \"/opt/conda/envs/fastai/lib/python3.8/site-packages/torch/utils/data/dataloader.py\", line 885, in _try_get_data\n",
      "    raise RuntimeError('DataLoader worker (pid(s) {}) exited unexpectedly'.format(pids_str)) from e\n",
      "RuntimeError: DataLoader worker (pid(s) 1780) exited unexpectedly\n"
     ]
    }
   ],
   "source": [
    "!python main.py --gpus 0"
   ]
  },
  {
   "cell_type": "code",
   "execution_count": null,
   "metadata": {},
   "outputs": [],
   "source": []
  },
  {
   "cell_type": "code",
   "execution_count": null,
   "metadata": {},
   "outputs": [],
   "source": []
  }
 ],
 "metadata": {
  "kernelspec": {
   "display_name": "Python 3",
   "language": "python",
   "name": "python3"
  },
  "language_info": {
   "codemirror_mode": {
    "name": "ipython",
    "version": 3
   },
   "file_extension": ".py",
   "mimetype": "text/x-python",
   "name": "python",
   "nbconvert_exporter": "python",
   "pygments_lexer": "ipython3",
   "version": "3.8.6"
  }
 },
 "nbformat": 4,
 "nbformat_minor": 5
}
